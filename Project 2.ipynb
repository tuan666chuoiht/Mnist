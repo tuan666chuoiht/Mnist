{
 "cells": [
  {
   "cell_type": "code",
   "execution_count": 3,
   "id": "95f100dc",
   "metadata": {},
   "outputs": [
    {
     "ename": "ModuleNotFoundError",
     "evalue": "No module named 'tensorflow'",
     "output_type": "error",
     "traceback": [
      "\u001b[1;31m---------------------------------------------------------------------------\u001b[0m",
      "\u001b[1;31mModuleNotFoundError\u001b[0m                       Traceback (most recent call last)",
      "Cell \u001b[1;32mIn[3], line 1\u001b[0m\n\u001b[1;32m----> 1\u001b[0m \u001b[38;5;28;01mimport\u001b[39;00m \u001b[38;5;21;01mtensorflow\u001b[39;00m \u001b[38;5;28;01mas\u001b[39;00m \u001b[38;5;21;01mtf\u001b[39;00m\n\u001b[0;32m      2\u001b[0m \u001b[38;5;28;01mfrom\u001b[39;00m \u001b[38;5;21;01mtensorflow\u001b[39;00m \u001b[38;5;28;01mimport\u001b[39;00m keras\n\u001b[0;32m      3\u001b[0m \u001b[38;5;28;01mfrom\u001b[39;00m \u001b[38;5;21;01mtensorflow\u001b[39;00m\u001b[38;5;21;01m.\u001b[39;00m\u001b[38;5;21;01mkeras\u001b[39;00m \u001b[38;5;28;01mimport\u001b[39;00m layers\n",
      "\u001b[1;31mModuleNotFoundError\u001b[0m: No module named 'tensorflow'"
     ]
    }
   ],
   "source": [
    "import tensorflow as tf\n",
    "from tensorflow import keras\n",
    "from tensorflow.keras import layers\n",
    "\n",
    "import numpy as np\n",
    "\n",
    "from tkinter import *\n",
    "from tkinter import messagebox\n",
    "\n",
    "import matplotlib.pyplot as plt\n",
    "\n",
    "import random"
   ]
  },
  {
   "cell_type": "code",
   "execution_count": 4,
   "id": "27c201ff",
   "metadata": {},
   "outputs": [],
   "source": [
    "(x_train, y_train), (x_test, y_test) = tf.keras.datasets.mnist.load_data()"
   ]
  },
  {
   "cell_type": "code",
   "execution_count": 5,
   "id": "c73f1fd6",
   "metadata": {},
   "outputs": [],
   "source": [
    "class_names = ['0', '1', '2', '3', '4', '5', '6', '7', '8', '9']\n",
    "class_nums = len(class_names)"
   ]
  },
  {
   "cell_type": "code",
   "execution_count": 6,
   "id": "51ae6669",
   "metadata": {},
   "outputs": [
    {
     "data": {
      "image/png": "[encoded data removed]",
      "text/plain": [
       "<Figure size 1000x500 with 8 Axes>"
      ]
     },
     "metadata": {},
     "output_type": "display_data"
    }
   ],
   "source": [
    "def plot_data(x_data:np.ndarray,y_data:np.ndarray) -> None:\n",
    "    nrows,ncols = 2,4\n",
    "    len_x = x_data.shape[0]\n",
    "    fig, axes = plt.subplots(nrows, ncols, figsize = (10,5))\n",
    "    for idx in range(ncols*nrows):\n",
    "        ax = axes[idx // ncols,idx % ncols]\n",
    "        img_idx = random.randint(0,len_x)\n",
    "        \n",
    "        ax.imshow(x_data[img_idx], cmap='gray')\n",
    "        ax.set(xticks=[], yticks=[])\n",
    "        \n",
    "        true_label_str = f\"True {class_names[y_data[img_idx]]}\"\n",
    "        ax.set_xlabel(true_label_str, color = 'green', fontsize = 12)\n",
    "    plt.tight_layout()\n",
    "    plt.show()\n",
    "    \n",
    "plot_data(x_train, y_train)"
   ]
  },
  {
   "cell_type": "code",
   "execution_count": 7,
   "id": "f9960fa5",
   "metadata": {},
   "outputs": [],
   "source": [
    "# Image Processing"
   ]
  },
  {
   "cell_type": "code",
   "execution_count": 8,
   "id": "611275a9",
   "metadata": {},
   "outputs": [],
   "source": [
    "x_train = x_train.astype(np.float32) / 255\n",
    "x_test = x_test.astype(np.float32) / 255"
   ]
  },
  {
   "cell_type": "code",
   "execution_count": 9,
   "id": "b811d694",
   "metadata": {},
   "outputs": [],
   "source": [
    "y_train_label = keras.utils.to_categorical(y_train, class_nums)\n",
    "y_test_label = keras.utils.to_categorical(y_test, class_nums)"
   ]
  },
  {
   "cell_type": "code",
   "execution_count": 10,
   "id": "00544c18",
   "metadata": {},
   "outputs": [
    {
     "data": {
      "text/plain": [
       "(5, array([0., 0., 0., 0., 0., 1., 0., 0., 0., 0.], dtype=float32))"
      ]
     },
     "execution_count": 10,
     "metadata": {},
     "output_type": "execute_result"
    }
   ],
   "source": [
    "y_train[0], y_train_label[0]"
   ]
  },
  {
   "cell_type": "code",
   "execution_count": 11,
   "id": "af775101",
   "metadata": {},
   "outputs": [],
   "source": [
    "# Neural Network "
   ]
  },
  {
   "cell_type": "code",
   "execution_count": 12,
   "id": "a627939e",
   "metadata": {},
   "outputs": [],
   "source": [
    "input_shape = (28,28)"
   ]
  },
  {
   "cell_type": "code",
   "execution_count": 13,
   "id": "42b4932f",
   "metadata": {},
   "outputs": [],
   "source": [
    "model = keras.models.Sequential([\n",
    "    layers.Flatten(),\n",
    "    layers.Dense(512, activation='relu'),\n",
    "    layers.Dense(256, activation='relu'),\n",
    "    layers.Dense(class_nums, activation='softmax')\n",
    "])"
   ]
  },
  {
   "cell_type": "code",
   "execution_count": 14,
   "id": "c181bb17",
   "metadata": {},
   "outputs": [],
   "source": [
    "model.compile(optimizer='adam',\n",
    "             loss='categorical_crossentropy',\n",
    "             metrics='accuracy')"
   ]
  },
  {
   "cell_type": "code",
   "execution_count": 15,
   "id": "d9e50faf",
   "metadata": {},
   "outputs": [
    {
     "name": "stdout",
     "output_type": "stream",
     "text": [
      "Epoch 1/10\n",
      "375/375 [==============================] - 6s 12ms/step - loss: 0.2644 - accuracy: 0.9234 - val_loss: 0.1216 - val_accuracy: 0.9642\n",
      "Epoch 2/10\n",
      "375/375 [==============================] - 4s 12ms/step - loss: 0.0939 - accuracy: 0.9709 - val_loss: 0.1061 - val_accuracy: 0.9674\n",
      "Epoch 3/10\n",
      "375/375 [==============================] - 5s 13ms/step - loss: 0.0596 - accuracy: 0.9817 - val_loss: 0.0905 - val_accuracy: 0.9722\n",
      "Epoch 4/10\n",
      "375/375 [==============================] - 5s 13ms/step - loss: 0.0378 - accuracy: 0.9886 - val_loss: 0.0864 - val_accuracy: 0.9747\n",
      "Epoch 5/10\n",
      "375/375 [==============================] - 3s 9ms/step - loss: 0.0265 - accuracy: 0.9915 - val_loss: 0.0795 - val_accuracy: 0.9783\n",
      "Epoch 6/10\n",
      "375/375 [==============================] - 4s 11ms/step - loss: 0.0203 - accuracy: 0.9936 - val_loss: 0.0981 - val_accuracy: 0.9740\n",
      "Epoch 7/10\n",
      "375/375 [==============================] - 4s 11ms/step - loss: 0.0192 - accuracy: 0.9930 - val_loss: 0.1056 - val_accuracy: 0.9746\n",
      "Epoch 8/10\n",
      "375/375 [==============================] - 7s 19ms/step - loss: 0.0144 - accuracy: 0.9950 - val_loss: 0.0949 - val_accuracy: 0.9787\n",
      "Epoch 9/10\n",
      "375/375 [==============================] - 6s 16ms/step - loss: 0.0117 - accuracy: 0.9960 - val_loss: 0.0994 - val_accuracy: 0.9779\n",
      "Epoch 10/10\n",
      "375/375 [==============================] - 6s 15ms/step - loss: 0.0125 - accuracy: 0.9958 - val_loss: 0.0985 - val_accuracy: 0.9777\n"
     ]
    }
   ],
   "source": [
    "epochs = 10\n",
    "batch_size = 128\n",
    "history = model.fit(x_train, y_train_label,\n",
    "                   epochs = epochs,\n",
    "                   batch_size = batch_size,\n",
    "                   validation_split=0.2,\n",
    "                   )"
   ]
  },
  {
   "cell_type": "code",
   "execution_count": 16,
   "id": "85a3384c",
   "metadata": {},
   "outputs": [],
   "source": []
  },
  {
   "cell_type": "code",
   "execution_count": 17,
   "id": "7fda224a",
   "metadata": {},
   "outputs": [],
   "source": []
  },
  {
   "cell_type": "code",
   "execution_count": 18,
   "id": "6cf1eb31",
   "metadata": {},
   "outputs": [],
   "source": []
  },
  {
   "cell_type": "code",
   "execution_count": null,
   "id": "f0282f48",
   "metadata": {},
   "outputs": [],
   "source": []
  },
  {
   "cell_type": "code",
   "execution_count": null,
   "id": "1808431c",
   "metadata": {},
   "outputs": [],
   "source": []
  },
  {
   "cell_type": "code",
   "execution_count": null,
   "id": "26e2b353",
   "metadata": {},
   "outputs": [],
   "source": []
  }
 ],
 "metadata": {
  "kernelspec": {
   "display_name": "env",
   "language": "python",
   "name": "env"
  },
  "language_info": {
   "codemirror_mode": {
    "name": "ipython",
    "version": 3
   },
   "file_extension": ".py",
   "mimetype": "text/x-python",
   "name": "python",
   "nbconvert_exporter": "python",
   "pygments_lexer": "ipython3",
   "version": "3.11.2"
  }
 },
 "nbformat": 4,
 "nbformat_minor": 5
}
